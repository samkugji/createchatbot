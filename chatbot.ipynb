{
 "cells": [
  {
   "cell_type": "code",
   "execution_count": 12,
   "metadata": {
    "collapsed": true
   },
   "outputs": [],
   "source": [
    "import random"
   ]
  },
  {
   "cell_type": "code",
   "execution_count": 13,
   "metadata": {
    "collapsed": true
   },
   "outputs": [],
   "source": [
    "# Sentences we'll respond with if the user greeted us\n",
    "GREETING_KEYWORDS = (\"hello\", \"hi\", \"greetings\", \"sup\", \"what's up\",)\n",
    "\n",
    "GREETING_RESPONSES = [\"'sup bro\", \"hey\", \"*nods*\", \"hey you get my snap?\"]\n",
    "\n",
    "def check_for_greeting(sentence):\n",
    "    \"\"\"If any of the words in the user's input was a greeting, return a greeting response\"\"\"\n",
    "    for word in sentence.split():\n",
    "        if word.lower() in GREETING_KEYWORDS:\n",
    "            return random.choice(GREETING_RESPONSES)"
   ]
  },
  {
   "cell_type": "code",
   "execution_count": 14,
   "metadata": {
    "collapsed": false
   },
   "outputs": [
    {
     "data": {
      "text/plain": [
       "'hey you get my snap?'"
      ]
     },
     "execution_count": 14,
     "metadata": {},
     "output_type": "execute_result"
    }
   ],
   "source": [
    "check_for_greeting(\"hi hello\")"
   ]
  },
  {
   "cell_type": "code",
   "execution_count": null,
   "metadata": {
    "collapsed": true
   },
   "outputs": [],
   "source": [
    "import "
   ]
  },
  {
   "cell_type": "code",
   "execution_count": 15,
   "metadata": {
    "collapsed": true
   },
   "outputs": [],
   "source": [
    "def respond(sentence):\n",
    "    \"\"\"Parse the user's inbound sentence and find candidate terms that make up a best-fit response\"\"\"\n",
    "    cleaned = preprocess_text(sentence)\n",
    "    parsed = TextBlob(cleaned)\n",
    "\n",
    "    # Loop through all the sentences, if more than one. This will help extract the most relevant\n",
    "    # response text even across multiple sentences (for example if there was no obvious direct noun\n",
    "    # in one sentence\n",
    "    pronoun, noun, adjective, verb = find_candidate_parts_of_speech(parsed)\n",
    "\n",
    "    # If we said something about the bot and used some kind of direct noun, construct the\n",
    "    # sentence around that, discarding the other candidates\n",
    "    resp = check_for_comment_about_bot(pronoun, noun, adjective)\n",
    "\n",
    "    # If we just greeted the bot, we'll use a return greeting\n",
    "    if not resp:\n",
    "        resp = check_for_greeting(parsed)\n",
    "\n",
    "    if not resp:\n",
    "        # If we didn't override the final sentence, try to construct a new one:\n",
    "        if not pronoun:\n",
    "            resp = random.choice(NONE_RESPONSES)\n",
    "        elif pronoun == 'I' and not verb:\n",
    "            resp = random.choice(COMMENTS_ABOUT_SELF)\n",
    "        else:\n",
    "            resp = construct_response(pronoun, noun, verb)\n",
    "\n",
    "    # If we got through all that with nothing, use a random response\n",
    "    if not resp:\n",
    "        resp = random.choice(NONE_RESPONSES)\n",
    "\n",
    "    logger.info(\"Returning phrase '%s'\", resp)\n",
    "    # Check that we're not going to say anything obviously offensive\n",
    "    filter_response(resp)\n",
    "\n",
    "    return resp\n",
    "\n",
    "def find_candidate_parts_of_speech(parsed):\n",
    "    \"\"\"Given a parsed input, find the best pronoun, direct noun, adjective, and verb to match their input.\n",
    "    Returns a tuple of pronoun, noun, adjective, verb any of which may be None if there was no good match\"\"\"\n",
    "    pronoun = None\n",
    "    noun = None\n",
    "    adjective = None\n",
    "    verb = None\n",
    "    for sent in parsed.sentences:\n",
    "        pronoun = find_pronoun(sent)\n",
    "        noun = find_noun(sent)\n",
    "        adjective = find_adjective(sent)\n",
    "        verb = find_verb(sent)\n",
    "    logger.info(\"Pronoun=%s, noun=%s, adjective=%s, verb=%s\", pronoun, noun, adjective, verb)\n",
    "    return pronoun, noun, adjective, verb"
   ]
  },
  {
   "cell_type": "code",
   "execution_count": null,
   "metadata": {
    "collapsed": true
   },
   "outputs": [],
   "source": []
  }
 ],
 "metadata": {
  "kernelspec": {
   "display_name": "Python 3",
   "language": "python",
   "name": "python3"
  },
  "language_info": {
   "codemirror_mode": {
    "name": "ipython",
    "version": 3
   },
   "file_extension": ".py",
   "mimetype": "text/x-python",
   "name": "python",
   "nbconvert_exporter": "python",
   "pygments_lexer": "ipython3",
   "version": "3.5.0"
  }
 },
 "nbformat": 4,
 "nbformat_minor": 0
}
